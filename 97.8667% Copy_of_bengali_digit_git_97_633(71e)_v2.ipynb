{
  "nbformat": 4,
  "nbformat_minor": 0,
  "metadata": {
    "colab": {
      "name": "Copy of bengali_digit.git 97.633(71e) v2.ipynb",
      "version": "0.3.2",
      "provenance": [],
      "collapsed_sections": []
    },
    "kernelspec": {
      "name": "python3",
      "display_name": "Python 3"
    },
    "accelerator": "GPU"
  },
  "cells": [
    {
      "cell_type": "markdown",
      "metadata": {
        "id": "view-in-github",
        "colab_type": "text"
      },
      "source": [
        "[View in Colaboratory](https://colab.research.google.com/github/sudarshaana/bangali_neumerical_character/blob/master/97.8667%%20Copy_of_bengali_digit_git_97_633(71e)_v2.ipynb)"
      ]
    },
    {
      "metadata": {
        "id": "IzkBF3t_T7Qf",
        "colab_type": "code",
        "colab": {
          "base_uri": "https://localhost:8080/",
          "height": 136
        },
        "outputId": "f30cb384-bf73-44e4-cdc8-c7ee922a52eb"
      },
      "cell_type": "code",
      "source": [
        "!mkdir -p drive\n",
        "!google-drive-ocamlfuse drive\n",
        "\n",
        "import os\n",
        "os.chdir(\"drive\")\n",
        "!git clone https://github.com/sudarshaana/CMATERdb_3.1.2.git"
      ],
      "execution_count": 24,
      "outputs": [
        {
          "output_type": "stream",
          "text": [
            "/bin/sh: 1: google-drive-ocamlfuse: not found\n",
            "Cloning into 'CMATERdb_3.1.2'...\n",
            "remote: Counting objects: 14928, done.\u001b[K\n",
            "remote: Compressing objects: 100% (820/820), done.\u001b[K\n",
            "remote: Total 14928 (delta 14106), reused 14925 (delta 14106), pack-reused 0\u001b[K\n",
            "Receiving objects: 100% (14928/14928), 9.19 MiB | 18.81 MiB/s, done.\n",
            "Resolving deltas: 100% (14106/14106), done.\n"
          ],
          "name": "stdout"
        }
      ]
    },
    {
      "metadata": {
        "id": "ILAGij5_XNmd",
        "colab_type": "code",
        "colab": {
          "base_uri": "https://localhost:8080/",
          "height": 34
        },
        "outputId": "93b34604-7ee7-447d-9324-48ee42a2f6cc"
      },
      "cell_type": "code",
      "source": [
        "ls"
      ],
      "execution_count": 25,
      "outputs": [
        {
          "output_type": "stream",
          "text": [
            "\u001b[0m\u001b[01;34mCMATERdb_3.1.2\u001b[0m/\r\n"
          ],
          "name": "stdout"
        }
      ]
    },
    {
      "metadata": {
        "id": "cii-PtBGmVgq",
        "colab_type": "code",
        "colab": {}
      },
      "cell_type": "code",
      "source": [
        "import pandas as pd\n",
        "import numpy as np\n",
        "import matplotlib.pyplot as plt\n",
        "import matplotlib.image as mpimg\n",
        "import seaborn as sns\n",
        "np.random.seed(2)\n",
        "\n",
        "from sklearn.model_selection import train_test_split\n",
        "from sklearn.metrics import confusion_matrix\n",
        "import itertools\n",
        "\n",
        "from keras.utils.np_utils import to_categorical # convert to one-hot-encoding\n",
        "from keras.models import Sequential\n",
        "from keras.layers import Dense, Dropout, Flatten, Conv2D, MaxPooling2D\n",
        "from keras.optimizers import RMSprop, adam\n",
        "from keras.preprocessing.image import ImageDataGenerator\n",
        "from keras.callbacks import ReduceLROnPlateau\n",
        "\n",
        "from sklearn.datasets import load_files       \n",
        "from keras.utils import np_utils\n",
        "from glob import glob\n",
        "from collections import Counter\n",
        "import matplotlib.pyplot as plt\n",
        "\n",
        "#Show sample images \n",
        "from keras.preprocessing import image                  \n",
        "from keras.preprocessing.image import img_to_array, load_img\n",
        "from PIL import ImageFile                            \n",
        "ImageFile.LOAD_TRUNCATED_IMAGES = True \n",
        "\n",
        "\n",
        "sns.set(style='white', context='notebook', palette='deep')\n",
        "%matplotlib inline"
      ],
      "execution_count": 0,
      "outputs": []
    },
    {
      "metadata": {
        "id": "3cPq9ZOcIRus",
        "colab_type": "code",
        "colab": {
          "base_uri": "https://localhost:8080/",
          "height": 102
        },
        "outputId": "2c077cb6-7dc9-4caf-8a88-5b6d5d928cda"
      },
      "cell_type": "code",
      "source": [
        "\n",
        "\n",
        "# define function to load train and test datasets \n",
        "# the function returns 3 numpy arrays with filenames, one-hot-encoded values and raw outputs\n",
        "def load_dataset(path):\n",
        "    data = load_files(path)\n",
        "    alphabet_files = np.array(data['filenames'])\n",
        "    targets = np.array(data['target'])\n",
        "    alphabet_targets = np_utils.to_categorical(targets, 50)\n",
        "    \n",
        "    return alphabet_files, alphabet_targets, targets\n",
        "\n",
        "# load train and test datasets\n",
        "train_files, train_targets, raw_train_targets = load_dataset('CMATERdb_3.1.2/Train')\n",
        "test_files, test_targets, raw_test_targets = load_dataset('CMATERdb_3.1.2/Test')\n",
        "\n",
        "# load list of characters\n",
        "alphabets = [item[25:-1] for item in sorted(glob(\"CMATERdb_3.1.2/Train/*/\"))]\n",
        "\n",
        "# print statistics about the dataset\n",
        "print('There are %d total alphabets' % len(alphabets))\n",
        "print('There are %s total alphabet images.\\n' % len(np.hstack([train_files, test_files])))\n",
        "print('There are %d training alphabet images.' % len(train_files))\n",
        "print('There are %d test alphabet images.'% len(test_files))\n"
      ],
      "execution_count": 27,
      "outputs": [
        {
          "output_type": "stream",
          "text": [
            "There are 50 total alphabets\n",
            "There are 15000 total alphabet images.\n",
            "\n",
            "There are 12000 training alphabet images.\n",
            "There are 3000 test alphabet images.\n"
          ],
          "name": "stdout"
        }
      ]
    },
    {
      "metadata": {
        "id": "kiLU4PQbIRxV",
        "colab_type": "code",
        "colab": {
          "base_uri": "https://localhost:8080/",
          "height": 578
        },
        "outputId": "feeb7c83-9935-4877-b481-af013da921b1"
      },
      "cell_type": "code",
      "source": [
        "# Function to display the distribution of data in the training and test sets by alphabet classes\n",
        "def plot_dist(target_set):\n",
        "    plt.figure(figsize=(6,4))\n",
        "    labels, values = zip(*target_set.items())\n",
        "    #indexes = np.arange(len(labels))\n",
        "    width = 0.8\n",
        "    plt.bar(labels, values, width)\n",
        "    plt.xlabel('Alphabets')\n",
        "    plt.ylabel('Frequency')\n",
        "    plt.show()\n",
        "\n",
        "print('Distribution of the training data in the dataset')    \n",
        "plot_dist(Counter(raw_train_targets))\n",
        "print('Distribution of the test data in the dataset') \n",
        "plot_dist(Counter(raw_test_targets))"
      ],
      "execution_count": 28,
      "outputs": [
        {
          "output_type": "stream",
          "text": [
            "Distribution of the training data in the dataset\n"
          ],
          "name": "stdout"
        },
        {
          "output_type": "display_data",
          "data": {
            "image/png": "[encoded data removed]",
            "text/plain": [
              "<matplotlib.figure.Figure at 0x7f8a8e5e93c8>"
            ]
          },
          "metadata": {
            "tags": []
          }
        },
        {
          "output_type": "stream",
          "text": [
            "Distribution of the test data in the dataset\n"
          ],
          "name": "stdout"
        },
        {
          "output_type": "display_data",
          "data": {
            "image/png": "[encoded data removed]",
            "text/plain": [
              "<matplotlib.figure.Figure at 0x7f8a8aa69278>"
            ]
          },
          "metadata": {
            "tags": []
          }
        }
      ]
    },
    {
      "metadata": {
        "id": "rsaQVqprIRzy",
        "colab_type": "code",
        "colab": {
          "base_uri": "https://localhost:8080/",
          "height": 575
        },
        "outputId": "268477f4-9fcf-4885-a43f-0b8538dba4a1"
      },
      "cell_type": "code",
      "source": [
        "\n",
        "\n",
        "#Scan through the training dataset to pick up one random character each folder\n",
        "alphabet_folders = sorted(glob(\"CMATERdb_3.1.2/Train/*/\"))\n",
        "sample_files = []\n",
        "for folder in alphabet_folders:\n",
        "    sample_files.append(glob(folder + \"*.bmp\")[np.random.randint(0,49)])\n",
        "sample_files = np.array(sample_files)\n",
        "\n",
        "#Display the characters\n",
        "fig = plt.figure(figsize=(25,10))\n",
        "for i in range(50):\n",
        "    ax = fig.add_subplot(5, 10, i + 1, xticks=[], yticks=[])\n",
        "    ax.imshow(np.squeeze(load_img(sample_files[i], target_size=(50,50), grayscale=True)), cmap = 'gray')\n",
        "    ax.set_title(\"{}\".format(alphabets[i]),\n",
        "                 color=\"green\")"
      ],
      "execution_count": 29,
      "outputs": [
        {
          "output_type": "display_data",
          "data": {
            "image/png": "[encoded data removed]",
            "text/plain": [
              "<matplotlib.figure.Figure at 0x7f8a8aabe9b0>"
            ]
          },
          "metadata": {
            "tags": []
          }
        }
      ]
    },
    {
      "metadata": {
        "id": "6adFNr1VIR2a",
        "colab_type": "code",
        "colab": {
          "base_uri": "https://localhost:8080/",
          "height": 290
        },
        "outputId": "f9fd0fa1-e738-4af7-9531-9fb9ab231852"
      },
      "cell_type": "code",
      "source": [
        "#View random characters in folders\n",
        "sample_files = []\n",
        "folder = 'CMATERdb_3.1.2/Train/202/'\n",
        "for i in range(10):    \n",
        "    sample_files.append(glob(folder + \"*.bmp\")[np.random.randint(0, 49)])\n",
        "\n",
        "sample_files = np.array(sample_files)\n",
        "\n",
        "fig = plt.figure(figsize=(10,5))\n",
        "for i in range(10):\n",
        "    ax = fig.add_subplot(2, 5, i + 1, xticks=[], yticks=[])\n",
        "    ax.imshow(np.squeeze(load_img(sample_files[i], target_size=(50,50), grayscale=True)), cmap = 'gray')\n",
        "    ax.set_title(\"{}\".format(sample_files[i][29:-4]),\n",
        "                 color=\"green\")"
      ],
      "execution_count": 30,
      "outputs": [
        {
          "output_type": "display_data",
          "data": {
            "image/png": "[encoded data removed]",
            "text/plain": [
              "<matplotlib.figure.Figure at 0x7f8a858e8dd8>"
            ]
          },
          "metadata": {
            "tags": []
          }
        }
      ]
    },
    {
      "metadata": {
        "id": "ka4in1unI_QL",
        "colab_type": "code",
        "colab": {
          "base_uri": "https://localhost:8080/",
          "height": 418
        },
        "outputId": "019fb9fe-c92b-4a51-ac2b-b0624dd5cd58"
      },
      "cell_type": "code",
      "source": [
        "\n",
        "train_files, valid_files, train_targets, valid_targets = train_test_split(train_files, train_targets, test_size = 0.2,  stratify = raw_train_targets)\n",
        "\n",
        "# print statistics about the dataset post split\n",
        "print('There are %d total alphabets' % len(alphabets))\n",
        "print('There are %s total alphabet images.\\n' % len(np.hstack([train_files, valid_files, test_files])))\n",
        "print('There are %d training alphabet images.' % len(train_files))\n",
        "print('There are %d validation alphabet images.' % len(valid_files))\n",
        "print('There are %d test alphabet images.\\n'% len(test_files))\n",
        "\n",
        "# Show distribution of data in validation set\n",
        "raw_valid_targets = []\n",
        "for i in range(len(valid_targets)):\n",
        "    raw_valid_targets.append(np.argmax(valid_targets[i]))\n",
        "    \n",
        "raw_valid_targets = np.array(raw_valid_targets)\n",
        "print('Distribution of the validation data in the dataset')  \n",
        "plot_dist(Counter(raw_valid_targets))"
      ],
      "execution_count": 31,
      "outputs": [
        {
          "output_type": "stream",
          "text": [
            "There are 50 total alphabets\n",
            "There are 15000 total alphabet images.\n",
            "\n",
            "There are 9600 training alphabet images.\n",
            "There are 2400 validation alphabet images.\n",
            "There are 3000 test alphabet images.\n",
            "\n",
            "Distribution of the validation data in the dataset\n"
          ],
          "name": "stdout"
        },
        {
          "output_type": "display_data",
          "data": {
            "image/png": "[encoded data removed]",
            "text/plain": [
              "<matplotlib.figure.Figure at 0x7f8a8ea317b8>"
            ]
          },
          "metadata": {
            "tags": []
          }
        }
      ]
    },
    {
      "metadata": {
        "id": "V0xrzLGZIyJy",
        "colab_type": "code",
        "colab": {
          "base_uri": "https://localhost:8080/",
          "height": 68
        },
        "outputId": "d3da30ec-659f-4249-e776-8da3a62b6698"
      },
      "cell_type": "code",
      "source": [
        "### Prepare the Training, Validation and Test Datasets\n",
        "def path_to_tensor(img_path):\n",
        "    if 'bcc000060.db' not in img_path:\n",
        "        # loads RGB image as PIL.Image.Image type\n",
        "        img = load_img(img_path, target_size=(64, 64), grayscale=False)\n",
        "        # convert PIL.Image.Image type to 3D tensor with shape (64, 64, 3)\n",
        "        x = img_to_array(img)\n",
        "        # convert 3D tensor to 4D tensor with shape (1, 64, 64, 3) and return 4D tensor\n",
        "        return np.expand_dims(x, axis=0)\n",
        "\n",
        "def paths_to_tensor(img_paths):\n",
        "    list_of_tensors = [path_to_tensor(img_path) for img_path in img_paths]\n",
        "    return np.vstack(list_of_tensors)\n",
        "\n",
        "# pre-process the data for Keras. We rescale the images by dividing every pixel in every image by 255. \n",
        "# So the scale is now 0-1 instead of 0-255.\n",
        "train_tensors = paths_to_tensor(train_files).astype('float32')/255\n",
        "valid_tensors = paths_to_tensor(valid_files).astype('float32')/255\n",
        "test_tensors = paths_to_tensor(test_files).astype('float32')/255\n",
        "\n",
        "# print number of training, validation, and test images\n",
        "print(train_tensors.shape[0], 'train samples')\n",
        "print(valid_tensors.shape[0], 'valid samples')\n",
        "print(test_tensors.shape[0], 'test samples')"
      ],
      "execution_count": 32,
      "outputs": [
        {
          "output_type": "stream",
          "text": [
            "9600 train samples\n",
            "2400 valid samples\n",
            "3000 test samples\n"
          ],
          "name": "stdout"
        }
      ]
    },
    {
      "metadata": {
        "id": "743Nt7zmywe1",
        "colab_type": "text"
      },
      "cell_type": "markdown",
      "source": [
        "\n",
        "\n",
        "```\n",
        "Test F1 accuracy: 97.7000%\n",
        "Total error: 69\n",
        "\n",
        "more conv layer\n",
        "```\n",
        "\n"
      ]
    },
    {
      "metadata": {
        "id": "ZIuNWXlkC0Sr",
        "colab_type": "code",
        "colab": {
          "base_uri": "https://localhost:8080/",
          "height": 8071
        },
        "outputId": "3f6c71e2-dc62-4230-90ca-0746dd8dc167"
      },
      "cell_type": "code",
      "source": [
        "model_ = Sequential()\n",
        "model_.add(Conv2D(filters = 16, kernel_size = (7,7), padding = 'Same', activation='relu', input_shape = (train_tensors.shape[1:])))\n",
        "model_.add(Conv2D(filters = 16, kernel_size = (6,6), padding = 'Same', activation='relu'))\n",
        "model_.add(MaxPooling2D(pool_size = (2,2)))\n",
        "#model_.add(Dropout(0.2))\n",
        "\n",
        "model_.add(Conv2D(filters = 32, kernel_size = (6,6), padding = 'Same', activation='relu'))\n",
        "model_.add(Conv2D(filters = 32, kernel_size = (5,5), padding = 'Same', activation = 'relu'))\n",
        "model_.add(MaxPooling2D(pool_size = (2,2), strides=(2,2)))\n",
        "\n",
        "\n",
        "model_.add(Conv2D(filters = 64, kernel_size = (5,5), padding = 'Same', activation='relu'))\n",
        "model_.add(Conv2D(filters = 128, kernel_size = (4,4), padding = 'Same', activation = 'relu'))\n",
        "model_.add(MaxPooling2D(pool_size = (2,2), strides=(2,2)))\n",
        "#model_.add(Dropout(0.3))\n",
        "\n",
        "model_.add(Conv2D(filters = 256, kernel_size = (3,3), padding = 'Same', activation = 'relu'))\n",
        "\n",
        "model_.add(Flatten())\n",
        "model_.add(Dense(256, activation='relu'))\n",
        "model_.add(Dropout(0.5))\n",
        "\n",
        "model_.add(Dense(50, activation = 'sigmoid'))\n",
        "#model_.summary()\n",
        "\n",
        "\n",
        "from keras.optimizers import adam\n",
        "from keras.callbacks import ReduceLROnPlateau\n",
        "\n",
        "optimizer_ = adam(lr = 0.001, epsilon = 1e-08, decay = 0.0)\n",
        "model_.compile(optimizer = optimizer_, loss = 'categorical_crossentropy', metrics = ['accuracy'])\n",
        "\n",
        "learning_rate_reduction = ReduceLROnPlateau(monitor = 'val_acc',\n",
        "                                           patience = 2,\n",
        "                                           verbose = 1,\n",
        "                                           factor = 0.5,\n",
        "                                           min_lr = 0.00001)\n",
        "epochs = 100\n",
        "batch_size = 128\n",
        "\n",
        "\n",
        "# Augment the training data \n",
        "from keras.preprocessing.image import ImageDataGenerator\n",
        "\n",
        "# create and configure augmented image generator\n",
        "datagen_train = ImageDataGenerator(\n",
        "    width_shift_range=0.2,  # randomly shift images horizontally (10% of total width)\n",
        "    height_shift_range=0.2,  # randomly shift images vertically (10% of total height)\n",
        "    rotation_range=15, \n",
        "    shear_range=0.2,\n",
        "    zoom_range=0.2,\n",
        "    fill_mode='nearest') # randomly rotate images by 15 degrees\n",
        "\n",
        "# create and configure augmented image generator\n",
        "datagen_valid = ImageDataGenerator(\n",
        "    width_shift_range=0.2,  # randomly shift images horizontally (10% of total width)\n",
        "    height_shift_range=0.2,  # randomly shift images vertically (10% of total height)\n",
        "    rotation_range=15, \n",
        "    shear_range=0.2,\n",
        "    zoom_range=0.2,\n",
        "    fill_mode='nearest')\n",
        "\n",
        "# fit augmented image generator on data\n",
        "datagen_train.fit(train_tensors)\n",
        "datagen_valid.fit(valid_tensors)\n",
        "\n",
        "from keras.callbacks import ModelCheckpoint   \n",
        "\n",
        "# train the model\n",
        "checkpointer = ModelCheckpoint(filepath='weights.best.with_augmentation_new.hdf5', verbose=1, \n",
        "                               save_best_only=True)\n",
        "\n",
        "history = model_.fit_generator(datagen_train.flow(train_tensors, train_targets, batch_size=batch_size),\n",
        "                                steps_per_epoch=train_tensors.shape[0] // batch_size,\n",
        "                                epochs=epochs, \n",
        "                                verbose=2, \n",
        "                                callbacks=[checkpointer, learning_rate_reduction],\n",
        "                                validation_data=datagen_valid.flow(valid_tensors, valid_targets, batch_size=batch_size),\n",
        "                                validation_steps=valid_tensors.shape[0] // batch_size)\n",
        "\n",
        "\n",
        "# Plot the loss and accuracy curves for training and validation \n",
        "fig, ax = plt.subplots(2,1)\n",
        "ax[0].plot(history.history['loss'], color='b', label=\"Training loss\")\n",
        "ax[0].plot(history.history['val_loss'], color='r', label=\"validation loss\",axes =ax[0])\n",
        "legend = ax[0].legend(loc='best', shadow=True)\n",
        "\n",
        "ax[1].plot(history.history['acc'], color='b', label=\"Training accuracy\")\n",
        "ax[1].plot(history.history['val_acc'], color='r',label=\"Validation accuracy\")\n",
        "legend = ax[1].legend(loc='best', shadow=True)\n",
        "\n",
        "#load the model with best weights\n",
        "model_.load_weights('weights.best.with_augmentation_new.hdf5')\n",
        "#model.load_weights('saved_models/weights.best.with_augmentation.hdf5')\n",
        "# get index of predicted alphabetnfor each image in test set\n",
        "alphabet_predictions = [np.argmax(model_.predict(np.expand_dims(tensor, axis=0))) for tensor in test_tensors]\n",
        "\n",
        "from sklearn import metrics\n",
        "y_true = [np.argmax(y_test) for y_test in test_targets]\n",
        "f1_accuracy = 100* metrics.f1_score(y_true,alphabet_predictions, average = 'micro')\n",
        "print('Test F1 accuracy: %.4f%%' % f1_accuracy)\n",
        "\n",
        "print('Test F1 accuracy: %.4f%%' % metrics.accuracy_score(y_true, alphabet_predictions))\n",
        "\n",
        "#from sklearn.metrics import confusion_matrix\n",
        "#confusion_matrix(y_true, alphabet_predictions)\n",
        "\n",
        "### Error Analysis\n",
        "## Find all the test cases where the prediction does not match the actual.\n",
        "## Trace back to file names and analyse \n",
        "## Loop over test tensors, predict and if doesnt match with actual add the file\n",
        "## name to an array\n",
        "\n",
        "error_files = []\n",
        "error_images = []\n",
        "for i, idx in enumerate(np.random.choice(test_tensors.shape[0], size=3000, replace=False)):\n",
        "    pred_idx = alphabet_predictions[idx]\n",
        "    true_idx = np.argmax(test_targets[idx])\n",
        "    if pred_idx != true_idx:\n",
        "        error_files.append(test_files[idx])\n",
        "        error_images.append(idx)\n",
        "\n",
        "print(\"Total error: \"+ str(len(error_files)))\n",
        "error_files = np.array(error_files) \n",
        "\n",
        "error_images = np.array(error_images) \n",
        "errors=np.stack((error_images,error_files),axis=-1)\n",
        "         \n",
        "\n",
        "fig = plt.figure(figsize=(20,20))\n",
        "i = 0 \n",
        "for idx, pic in errors:\n",
        "    idx = int(idx)\n",
        "    ax = fig.add_subplot(11, 10, i + 1, xticks=[], yticks=[])\n",
        "    \n",
        "    #print ('Misclassified the file: ' + pic + ' As: ' + str (alphabet_predictions[idx] ) + ' instead of ' + str(np.argmax(test_targets[idx])) + ' Index: ' + str(idx))\n",
        "\n",
        "    ax.imshow(np.squeeze(load_img(pic, target_size=(100,100), grayscale=True)), cmap = 'gray')\n",
        "    ax.set_title(\"{} ({})\".format(str (alphabet_predictions[idx] ), str(np.argmax(test_targets[idx]))),\n",
        "                 color=(\"red\"))\n",
        "    i += 1"
      ],
      "execution_count": 33,
      "outputs": [
        {
          "output_type": "stream",
          "text": [
            "Epoch 1/100\n",
            " - 21s - loss: 3.8941 - acc: 0.0272 - val_loss: 3.8492 - val_acc: 0.0443\n",
            "\n",
            "Epoch 00001: val_loss improved from inf to 3.84915, saving model to weights.best.with_augmentation_new.hdf5\n",
            "Epoch 2/100\n",
            " - 18s - loss: 3.8310 - acc: 0.0358 - val_loss: 3.7742 - val_acc: 0.0573\n",
            "\n",
            "Epoch 00002: val_loss improved from 3.84915 to 3.77423, saving model to weights.best.with_augmentation_new.hdf5\n",
            "Epoch 3/100\n",
            " - 18s - loss: 3.5661 - acc: 0.0707 - val_loss: 3.2088 - val_acc: 0.1549\n",
            "\n",
            "Epoch 00003: val_loss improved from 3.77423 to 3.20883, saving model to weights.best.with_augmentation_new.hdf5\n",
            "Epoch 4/100\n",
            " - 18s - loss: 3.1241 - acc: 0.1567 - val_loss: 2.6017 - val_acc: 0.2717\n",
            "\n",
            "Epoch 00004: val_loss improved from 3.20883 to 2.60169, saving model to weights.best.with_augmentation_new.hdf5\n",
            "Epoch 5/100\n",
            " - 18s - loss: 2.6466 - acc: 0.2461 - val_loss: 2.1001 - val_acc: 0.4062\n",
            "\n",
            "Epoch 00005: val_loss improved from 2.60169 to 2.10005, saving model to weights.best.with_augmentation_new.hdf5\n",
            "Epoch 6/100\n",
            " - 18s - loss: 2.1856 - acc: 0.3626 - val_loss: 1.6200 - val_acc: 0.5456\n",
            "\n",
            "Epoch 00006: val_loss improved from 2.10005 to 1.62000, saving model to weights.best.with_augmentation_new.hdf5\n",
            "Epoch 7/100\n",
            " - 18s - loss: 1.7716 - acc: 0.4718 - val_loss: 1.3402 - val_acc: 0.6020\n",
            "\n",
            "Epoch 00007: val_loss improved from 1.62000 to 1.34021, saving model to weights.best.with_augmentation_new.hdf5\n",
            "Epoch 8/100\n",
            " - 18s - loss: 1.4989 - acc: 0.5502 - val_loss: 1.0878 - val_acc: 0.6745\n",
            "\n",
            "Epoch 00008: val_loss improved from 1.34021 to 1.08778, saving model to weights.best.with_augmentation_new.hdf5\n",
            "Epoch 9/100\n",
            " - 18s - loss: 1.2514 - acc: 0.6170 - val_loss: 0.8667 - val_acc: 0.7474\n",
            "\n",
            "Epoch 00009: val_loss improved from 1.08778 to 0.86669, saving model to weights.best.with_augmentation_new.hdf5\n",
            "Epoch 10/100\n",
            " - 18s - loss: 1.0970 - acc: 0.6695 - val_loss: 0.7535 - val_acc: 0.7552\n",
            "\n",
            "Epoch 00010: val_loss improved from 0.86669 to 0.75353, saving model to weights.best.with_augmentation_new.hdf5\n",
            "Epoch 11/100\n",
            " - 18s - loss: 0.9685 - acc: 0.7035 - val_loss: 0.6921 - val_acc: 0.7990\n",
            "\n",
            "Epoch 00011: val_loss improved from 0.75353 to 0.69206, saving model to weights.best.with_augmentation_new.hdf5\n",
            "Epoch 12/100\n",
            " - 18s - loss: 0.8579 - acc: 0.7351 - val_loss: 0.6413 - val_acc: 0.7925\n",
            "\n",
            "Epoch 00012: val_loss improved from 0.69206 to 0.64128, saving model to weights.best.with_augmentation_new.hdf5\n",
            "Epoch 13/100\n",
            " - 18s - loss: 0.7758 - acc: 0.7652 - val_loss: 0.5365 - val_acc: 0.8312\n",
            "\n",
            "Epoch 00013: val_loss improved from 0.64128 to 0.53651, saving model to weights.best.with_augmentation_new.hdf5\n",
            "Epoch 14/100\n",
            " - 18s - loss: 0.7057 - acc: 0.7858 - val_loss: 0.5347 - val_acc: 0.8303\n",
            "\n",
            "Epoch 00014: val_loss improved from 0.53651 to 0.53467, saving model to weights.best.with_augmentation_new.hdf5\n",
            "Epoch 15/100\n",
            " - 18s - loss: 0.6805 - acc: 0.7938 - val_loss: 0.5186 - val_acc: 0.8346\n",
            "\n",
            "Epoch 00015: val_loss improved from 0.53467 to 0.51861, saving model to weights.best.with_augmentation_new.hdf5\n",
            "Epoch 16/100\n",
            " - 18s - loss: 0.6243 - acc: 0.8080 - val_loss: 0.4904 - val_acc: 0.8485\n",
            "\n",
            "Epoch 00016: val_loss improved from 0.51861 to 0.49043, saving model to weights.best.with_augmentation_new.hdf5\n",
            "Epoch 17/100\n",
            " - 18s - loss: 0.5635 - acc: 0.8271 - val_loss: 0.4374 - val_acc: 0.8620\n",
            "\n",
            "Epoch 00017: val_loss improved from 0.49043 to 0.43742, saving model to weights.best.with_augmentation_new.hdf5\n",
            "Epoch 18/100\n",
            " - 18s - loss: 0.5282 - acc: 0.8418 - val_loss: 0.4616 - val_acc: 0.8559\n",
            "\n",
            "Epoch 00018: val_loss did not improve from 0.43742\n",
            "Epoch 19/100\n",
            " - 18s - loss: 0.5278 - acc: 0.8358 - val_loss: 0.4164 - val_acc: 0.8711\n",
            "\n",
            "Epoch 00019: val_loss improved from 0.43742 to 0.41641, saving model to weights.best.with_augmentation_new.hdf5\n",
            "Epoch 20/100\n",
            " - 18s - loss: 0.4806 - acc: 0.8528 - val_loss: 0.4067 - val_acc: 0.8759\n",
            "\n",
            "Epoch 00020: val_loss improved from 0.41641 to 0.40673, saving model to weights.best.with_augmentation_new.hdf5\n",
            "Epoch 21/100\n",
            " - 18s - loss: 0.4994 - acc: 0.8494 - val_loss: 0.3869 - val_acc: 0.8815\n",
            "\n",
            "Epoch 00021: val_loss improved from 0.40673 to 0.38688, saving model to weights.best.with_augmentation_new.hdf5\n",
            "Epoch 22/100\n",
            " - 18s - loss: 0.4658 - acc: 0.8554 - val_loss: 0.3463 - val_acc: 0.8880\n",
            "\n",
            "Epoch 00022: val_loss improved from 0.38688 to 0.34631, saving model to weights.best.with_augmentation_new.hdf5\n",
            "Epoch 23/100\n"
          ],
          "name": "stdout"
        },
        {
          "output_type": "stream",
          "text": [
            " - 18s - loss: 0.4350 - acc: 0.8704 - val_loss: 0.3890 - val_acc: 0.8859\n",
            "\n",
            "Epoch 00023: val_loss did not improve from 0.34631\n",
            "Epoch 24/100\n",
            " - 18s - loss: 0.4083 - acc: 0.8721 - val_loss: 0.3872 - val_acc: 0.8819\n",
            "\n",
            "Epoch 00024: val_loss did not improve from 0.34631\n",
            "\n",
            "Epoch 00024: ReduceLROnPlateau reducing learning rate to 0.0005000000237487257.\n",
            "Epoch 25/100\n",
            " - 18s - loss: 0.3749 - acc: 0.8869 - val_loss: 0.2962 - val_acc: 0.9023\n",
            "\n",
            "Epoch 00025: val_loss improved from 0.34631 to 0.29622, saving model to weights.best.with_augmentation_new.hdf5\n",
            "Epoch 26/100\n",
            " - 18s - loss: 0.3594 - acc: 0.8941 - val_loss: 0.3171 - val_acc: 0.8997\n",
            "\n",
            "Epoch 00026: val_loss did not improve from 0.29622\n",
            "Epoch 27/100\n",
            " - 18s - loss: 0.3215 - acc: 0.9001 - val_loss: 0.2886 - val_acc: 0.9106\n",
            "\n",
            "Epoch 00027: val_loss improved from 0.29622 to 0.28863, saving model to weights.best.with_augmentation_new.hdf5\n",
            "Epoch 28/100\n",
            " - 18s - loss: 0.3158 - acc: 0.9017 - val_loss: 0.2811 - val_acc: 0.9175\n",
            "\n",
            "Epoch 00028: val_loss improved from 0.28863 to 0.28105, saving model to weights.best.with_augmentation_new.hdf5\n",
            "Epoch 29/100\n",
            " - 18s - loss: 0.3138 - acc: 0.9045 - val_loss: 0.3209 - val_acc: 0.9071\n",
            "\n",
            "Epoch 00029: val_loss did not improve from 0.28105\n",
            "Epoch 30/100\n",
            " - 18s - loss: 0.3177 - acc: 0.9015 - val_loss: 0.2784 - val_acc: 0.9132\n",
            "\n",
            "Epoch 00030: val_loss improved from 0.28105 to 0.27837, saving model to weights.best.with_augmentation_new.hdf5\n",
            "\n",
            "Epoch 00030: ReduceLROnPlateau reducing learning rate to 0.0002500000118743628.\n",
            "Epoch 31/100\n",
            " - 18s - loss: 0.2878 - acc: 0.9116 - val_loss: 0.2798 - val_acc: 0.9167\n",
            "\n",
            "Epoch 00031: val_loss did not improve from 0.27837\n",
            "Epoch 32/100\n",
            " - 18s - loss: 0.2648 - acc: 0.9184 - val_loss: 0.2786 - val_acc: 0.9175\n",
            "\n",
            "Epoch 00032: val_loss did not improve from 0.27837\n",
            "\n",
            "Epoch 00032: ReduceLROnPlateau reducing learning rate to 0.0001250000059371814.\n",
            "Epoch 33/100\n",
            " - 18s - loss: 0.2592 - acc: 0.9208 - val_loss: 0.2343 - val_acc: 0.9262\n",
            "\n",
            "Epoch 00033: val_loss improved from 0.27837 to 0.23427, saving model to weights.best.with_augmentation_new.hdf5\n",
            "Epoch 34/100\n",
            " - 18s - loss: 0.2585 - acc: 0.9208 - val_loss: 0.2656 - val_acc: 0.9123\n",
            "\n",
            "Epoch 00034: val_loss did not improve from 0.23427\n",
            "Epoch 35/100\n",
            " - 18s - loss: 0.2418 - acc: 0.9245 - val_loss: 0.2641 - val_acc: 0.9132\n",
            "\n",
            "Epoch 00035: val_loss did not improve from 0.23427\n",
            "\n",
            "Epoch 00035: ReduceLROnPlateau reducing learning rate to 6.25000029685907e-05.\n",
            "Epoch 36/100\n",
            " - 18s - loss: 0.2343 - acc: 0.9294 - val_loss: 0.2378 - val_acc: 0.9249\n",
            "\n",
            "Epoch 00036: val_loss did not improve from 0.23427\n",
            "Epoch 37/100\n",
            " - 18s - loss: 0.2384 - acc: 0.9270 - val_loss: 0.2515 - val_acc: 0.9258\n",
            "\n",
            "Epoch 00037: val_loss did not improve from 0.23427\n",
            "\n",
            "Epoch 00037: ReduceLROnPlateau reducing learning rate to 3.125000148429535e-05.\n",
            "Epoch 38/100\n",
            " - 18s - loss: 0.2311 - acc: 0.9267 - val_loss: 0.2655 - val_acc: 0.9175\n",
            "\n",
            "Epoch 00038: val_loss did not improve from 0.23427\n",
            "Epoch 39/100\n",
            " - 18s - loss: 0.2300 - acc: 0.9290 - val_loss: 0.2740 - val_acc: 0.9171\n",
            "\n",
            "Epoch 00039: val_loss did not improve from 0.23427\n",
            "\n",
            "Epoch 00039: ReduceLROnPlateau reducing learning rate to 1.5625000742147677e-05.\n",
            "Epoch 40/100\n",
            " - 18s - loss: 0.2255 - acc: 0.9296 - val_loss: 0.2718 - val_acc: 0.9219\n",
            "\n",
            "Epoch 00040: val_loss did not improve from 0.23427\n",
            "Epoch 41/100\n",
            " - 18s - loss: 0.2322 - acc: 0.9272 - val_loss: 0.2525 - val_acc: 0.9236\n",
            "\n",
            "Epoch 00041: val_loss did not improve from 0.23427\n",
            "\n",
            "Epoch 00041: ReduceLROnPlateau reducing learning rate to 1e-05.\n",
            "Epoch 42/100\n",
            " - 18s - loss: 0.2372 - acc: 0.9244 - val_loss: 0.2584 - val_acc: 0.9197\n",
            "\n",
            "Epoch 00042: val_loss did not improve from 0.23427\n",
            "Epoch 43/100\n",
            " - 18s - loss: 0.2333 - acc: 0.9300 - val_loss: 0.2449 - val_acc: 0.9258\n",
            "\n",
            "Epoch 00043: val_loss did not improve from 0.23427\n",
            "Epoch 44/100\n",
            " - 18s - loss: 0.2336 - acc: 0.9262 - val_loss: 0.2330 - val_acc: 0.9271\n",
            "\n",
            "Epoch 00044: val_loss improved from 0.23427 to 0.23298, saving model to weights.best.with_augmentation_new.hdf5\n",
            "Epoch 45/100\n",
            " - 18s - loss: 0.2284 - acc: 0.9299 - val_loss: 0.2385 - val_acc: 0.9253\n",
            "\n",
            "Epoch 00045: val_loss did not improve from 0.23298\n",
            "Epoch 46/100\n"
          ],
          "name": "stdout"
        },
        {
          "output_type": "stream",
          "text": [
            " - 18s - loss: 0.2329 - acc: 0.9281 - val_loss: 0.2206 - val_acc: 0.9288\n",
            "\n",
            "Epoch 00046: val_loss improved from 0.23298 to 0.22064, saving model to weights.best.with_augmentation_new.hdf5\n",
            "Epoch 47/100\n",
            " - 18s - loss: 0.2350 - acc: 0.9281 - val_loss: 0.2504 - val_acc: 0.9214\n",
            "\n",
            "Epoch 00047: val_loss did not improve from 0.22064\n",
            "Epoch 48/100\n",
            " - 18s - loss: 0.2248 - acc: 0.9290 - val_loss: 0.2586 - val_acc: 0.9201\n",
            "\n",
            "Epoch 00048: val_loss did not improve from 0.22064\n",
            "Epoch 49/100\n",
            " - 19s - loss: 0.2273 - acc: 0.9265 - val_loss: 0.2602 - val_acc: 0.9214\n",
            "\n",
            "Epoch 00049: val_loss did not improve from 0.22064\n",
            "Epoch 50/100\n",
            " - 19s - loss: 0.2209 - acc: 0.9310 - val_loss: 0.2277 - val_acc: 0.9310\n",
            "\n",
            "Epoch 00050: val_loss did not improve from 0.22064\n",
            "Epoch 51/100\n",
            " - 18s - loss: 0.2363 - acc: 0.9242 - val_loss: 0.2384 - val_acc: 0.9266\n",
            "\n",
            "Epoch 00051: val_loss did not improve from 0.22064\n",
            "Epoch 52/100\n",
            " - 18s - loss: 0.2231 - acc: 0.9316 - val_loss: 0.2565 - val_acc: 0.9262\n",
            "\n",
            "Epoch 00052: val_loss did not improve from 0.22064\n",
            "Epoch 53/100\n",
            " - 18s - loss: 0.2249 - acc: 0.9307 - val_loss: 0.2321 - val_acc: 0.9314\n",
            "\n",
            "Epoch 00053: val_loss did not improve from 0.22064\n",
            "Epoch 54/100\n",
            " - 18s - loss: 0.2368 - acc: 0.9274 - val_loss: 0.2596 - val_acc: 0.9188\n",
            "\n",
            "Epoch 00054: val_loss did not improve from 0.22064\n",
            "Epoch 55/100\n",
            " - 18s - loss: 0.2267 - acc: 0.9294 - val_loss: 0.2395 - val_acc: 0.9227\n",
            "\n",
            "Epoch 00055: val_loss did not improve from 0.22064\n",
            "Epoch 56/100\n",
            " - 18s - loss: 0.2332 - acc: 0.9274 - val_loss: 0.2555 - val_acc: 0.9262\n",
            "\n",
            "Epoch 00056: val_loss did not improve from 0.22064\n",
            "Epoch 57/100\n",
            " - 18s - loss: 0.2383 - acc: 0.9275 - val_loss: 0.2492 - val_acc: 0.9297\n",
            "\n",
            "Epoch 00057: val_loss did not improve from 0.22064\n",
            "Epoch 58/100\n",
            " - 18s - loss: 0.2334 - acc: 0.9283 - val_loss: 0.2377 - val_acc: 0.9271\n",
            "\n",
            "Epoch 00058: val_loss did not improve from 0.22064\n",
            "Epoch 59/100\n",
            " - 18s - loss: 0.2342 - acc: 0.9252 - val_loss: 0.2498 - val_acc: 0.9197\n",
            "\n",
            "Epoch 00059: val_loss did not improve from 0.22064\n",
            "Epoch 60/100\n",
            " - 18s - loss: 0.2234 - acc: 0.9298 - val_loss: 0.2323 - val_acc: 0.9236\n",
            "\n",
            "Epoch 00060: val_loss did not improve from 0.22064\n",
            "Epoch 61/100\n",
            " - 18s - loss: 0.2356 - acc: 0.9262 - val_loss: 0.2480 - val_acc: 0.9223\n",
            "\n",
            "Epoch 00061: val_loss did not improve from 0.22064\n",
            "Epoch 62/100\n",
            " - 18s - loss: 0.2308 - acc: 0.9268 - val_loss: 0.2388 - val_acc: 0.9301\n",
            "\n",
            "Epoch 00062: val_loss did not improve from 0.22064\n",
            "Epoch 63/100\n",
            " - 18s - loss: 0.2281 - acc: 0.9311 - val_loss: 0.2441 - val_acc: 0.9232\n",
            "\n",
            "Epoch 00063: val_loss did not improve from 0.22064\n",
            "Epoch 64/100\n",
            " - 18s - loss: 0.2121 - acc: 0.9331 - val_loss: 0.2527 - val_acc: 0.9175\n",
            "\n",
            "Epoch 00064: val_loss did not improve from 0.22064\n",
            "Epoch 65/100\n",
            " - 18s - loss: 0.2083 - acc: 0.9366 - val_loss: 0.2222 - val_acc: 0.9258\n",
            "\n",
            "Epoch 00065: val_loss did not improve from 0.22064\n",
            "Epoch 66/100\n",
            " - 18s - loss: 0.2324 - acc: 0.9290 - val_loss: 0.2363 - val_acc: 0.9245\n",
            "\n",
            "Epoch 00066: val_loss did not improve from 0.22064\n",
            "Epoch 67/100\n",
            " - 18s - loss: 0.2186 - acc: 0.9328 - val_loss: 0.2326 - val_acc: 0.9240\n",
            "\n",
            "Epoch 00067: val_loss did not improve from 0.22064\n",
            "Epoch 68/100\n",
            " - 18s - loss: 0.2349 - acc: 0.9243 - val_loss: 0.2481 - val_acc: 0.9210\n",
            "\n",
            "Epoch 00068: val_loss did not improve from 0.22064\n",
            "Epoch 69/100\n",
            " - 18s - loss: 0.2304 - acc: 0.9274 - val_loss: 0.2403 - val_acc: 0.9275\n",
            "\n",
            "Epoch 00069: val_loss did not improve from 0.22064\n",
            "Epoch 70/100\n",
            " - 18s - loss: 0.2254 - acc: 0.9309 - val_loss: 0.2530 - val_acc: 0.9240\n",
            "\n",
            "Epoch 00070: val_loss did not improve from 0.22064\n",
            "Epoch 71/100\n",
            " - 18s - loss: 0.2314 - acc: 0.9286 - val_loss: 0.2274 - val_acc: 0.9258\n",
            "\n",
            "Epoch 00071: val_loss did not improve from 0.22064\n",
            "Epoch 72/100\n"
          ],
          "name": "stdout"
        },
        {
          "output_type": "stream",
          "text": [
            " - 18s - loss: 0.2151 - acc: 0.9309 - val_loss: 0.2644 - val_acc: 0.9219\n",
            "\n",
            "Epoch 00072: val_loss did not improve from 0.22064\n",
            "Epoch 73/100\n",
            " - 18s - loss: 0.2241 - acc: 0.9268 - val_loss: 0.2441 - val_acc: 0.9249\n",
            "\n",
            "Epoch 00073: val_loss did not improve from 0.22064\n",
            "Epoch 74/100\n",
            " - 18s - loss: 0.2299 - acc: 0.9287 - val_loss: 0.2494 - val_acc: 0.9223\n",
            "\n",
            "Epoch 00074: val_loss did not improve from 0.22064\n",
            "Epoch 75/100\n",
            " - 18s - loss: 0.2232 - acc: 0.9294 - val_loss: 0.2471 - val_acc: 0.9258\n",
            "\n",
            "Epoch 00075: val_loss did not improve from 0.22064\n",
            "Epoch 76/100\n",
            " - 18s - loss: 0.2256 - acc: 0.9286 - val_loss: 0.2452 - val_acc: 0.9258\n",
            "\n",
            "Epoch 00076: val_loss did not improve from 0.22064\n",
            "Epoch 77/100\n",
            " - 18s - loss: 0.2113 - acc: 0.9323 - val_loss: 0.2323 - val_acc: 0.9271\n",
            "\n",
            "Epoch 00077: val_loss did not improve from 0.22064\n",
            "Epoch 78/100\n",
            " - 18s - loss: 0.2167 - acc: 0.9332 - val_loss: 0.2595 - val_acc: 0.9227\n",
            "\n",
            "Epoch 00078: val_loss did not improve from 0.22064\n",
            "Epoch 79/100\n",
            " - 18s - loss: 0.2143 - acc: 0.9343 - val_loss: 0.2542 - val_acc: 0.9271\n",
            "\n",
            "Epoch 00079: val_loss did not improve from 0.22064\n",
            "Epoch 80/100\n",
            " - 18s - loss: 0.2121 - acc: 0.9328 - val_loss: 0.2296 - val_acc: 0.9280\n",
            "\n",
            "Epoch 00080: val_loss did not improve from 0.22064\n",
            "Epoch 81/100\n",
            " - 18s - loss: 0.2192 - acc: 0.9301 - val_loss: 0.2791 - val_acc: 0.9214\n",
            "\n",
            "Epoch 00081: val_loss did not improve from 0.22064\n",
            "Epoch 82/100\n",
            " - 18s - loss: 0.2222 - acc: 0.9293 - val_loss: 0.2575 - val_acc: 0.9175\n",
            "\n",
            "Epoch 00082: val_loss did not improve from 0.22064\n",
            "Epoch 83/100\n",
            " - 18s - loss: 0.2246 - acc: 0.9306 - val_loss: 0.2366 - val_acc: 0.9310\n",
            "\n",
            "Epoch 00083: val_loss did not improve from 0.22064\n",
            "Epoch 84/100\n",
            " - 18s - loss: 0.2191 - acc: 0.9296 - val_loss: 0.2400 - val_acc: 0.9253\n",
            "\n",
            "Epoch 00084: val_loss did not improve from 0.22064\n",
            "Epoch 85/100\n",
            " - 18s - loss: 0.2212 - acc: 0.9305 - val_loss: 0.2438 - val_acc: 0.9249\n",
            "\n",
            "Epoch 00085: val_loss did not improve from 0.22064\n",
            "Epoch 86/100\n",
            " - 18s - loss: 0.2179 - acc: 0.9363 - val_loss: 0.2401 - val_acc: 0.9284\n",
            "\n",
            "Epoch 00086: val_loss did not improve from 0.22064\n",
            "Epoch 87/100\n",
            " - 18s - loss: 0.2276 - acc: 0.9279 - val_loss: 0.2195 - val_acc: 0.9306\n",
            "\n",
            "Epoch 00087: val_loss improved from 0.22064 to 0.21950, saving model to weights.best.with_augmentation_new.hdf5\n",
            "Epoch 88/100\n",
            " - 18s - loss: 0.2229 - acc: 0.9314 - val_loss: 0.2310 - val_acc: 0.9306\n",
            "\n",
            "Epoch 00088: val_loss did not improve from 0.21950\n",
            "Epoch 89/100\n",
            " - 18s - loss: 0.2187 - acc: 0.9309 - val_loss: 0.2510 - val_acc: 0.9180\n",
            "\n",
            "Epoch 00089: val_loss did not improve from 0.21950\n",
            "Epoch 90/100\n",
            " - 18s - loss: 0.2207 - acc: 0.9311 - val_loss: 0.2499 - val_acc: 0.9236\n",
            "\n",
            "Epoch 00090: val_loss did not improve from 0.21950\n",
            "Epoch 91/100\n",
            " - 18s - loss: 0.2254 - acc: 0.9295 - val_loss: 0.2387 - val_acc: 0.9284\n",
            "\n",
            "Epoch 00091: val_loss did not improve from 0.21950\n",
            "Epoch 92/100\n",
            " - 18s - loss: 0.2221 - acc: 0.9290 - val_loss: 0.2787 - val_acc: 0.9132\n",
            "\n",
            "Epoch 00092: val_loss did not improve from 0.21950\n",
            "Epoch 93/100\n",
            " - 18s - loss: 0.2146 - acc: 0.9350 - val_loss: 0.2477 - val_acc: 0.9227\n",
            "\n",
            "Epoch 00093: val_loss did not improve from 0.21950\n",
            "Epoch 94/100\n",
            " - 18s - loss: 0.2284 - acc: 0.9277 - val_loss: 0.2123 - val_acc: 0.9358\n",
            "\n",
            "Epoch 00094: val_loss improved from 0.21950 to 0.21229, saving model to weights.best.with_augmentation_new.hdf5\n",
            "Epoch 95/100\n",
            " - 18s - loss: 0.2253 - acc: 0.9300 - val_loss: 0.2397 - val_acc: 0.9197\n",
            "\n",
            "Epoch 00095: val_loss did not improve from 0.21229\n",
            "Epoch 96/100\n",
            " - 18s - loss: 0.2154 - acc: 0.9342 - val_loss: 0.2532 - val_acc: 0.9236\n",
            "\n",
            "Epoch 00096: val_loss did not improve from 0.21229\n",
            "Epoch 97/100\n",
            " - 18s - loss: 0.2123 - acc: 0.9351 - val_loss: 0.2510 - val_acc: 0.9214\n",
            "\n",
            "Epoch 00097: val_loss did not improve from 0.21229\n",
            "Epoch 98/100\n"
          ],
          "name": "stdout"
        },
        {
          "output_type": "stream",
          "text": [
            " - 18s - loss: 0.2143 - acc: 0.9334 - val_loss: 0.2294 - val_acc: 0.9297\n",
            "\n",
            "Epoch 00098: val_loss did not improve from 0.21229\n",
            "Epoch 99/100\n",
            " - 18s - loss: 0.2274 - acc: 0.9283 - val_loss: 0.2344 - val_acc: 0.9236\n",
            "\n",
            "Epoch 00099: val_loss did not improve from 0.21229\n",
            "Epoch 100/100\n",
            " - 18s - loss: 0.2185 - acc: 0.9310 - val_loss: 0.2352 - val_acc: 0.9245\n",
            "\n",
            "Epoch 00100: val_loss did not improve from 0.21229\n",
            "Test F1 accuracy: 97.8667%\n",
            "Test F1 accuracy: 0.9787%\n",
            "Total error: 64\n"
          ],
          "name": "stdout"
        },
        {
          "output_type": "display_data",
          "data": {
            "image/png": "[encoded data removed]",
            "text/plain": [
              "<matplotlib.figure.Figure at 0x7f8a85296780>"
            ]
          },
          "metadata": {
            "tags": []
          }
        },
        {
          "output_type": "display_data",
          "data": {
            "image/png": "[encoded data removed]",
            "text/plain": [
              "<matplotlib.figure.Figure at 0x7f8a833faf28>"
            ]
          },
          "metadata": {
            "tags": []
          }
        }
      ]
    },
    {
      "metadata": {
        "id": "EHBtKBtfy2hd",
        "colab_type": "code",
        "colab": {
          "base_uri": "https://localhost:8080/",
          "height": 51
        },
        "outputId": "2717c551-a956-49ae-9505-85a01686fdcb"
      },
      "cell_type": "code",
      "source": [
        "f1_accuracy = 100* metrics.f1_score(y_true,alphabet_predictions, average = 'micro')\n",
        "print('Test F1 accuracy: %.4f%%' % f1_accuracy)\n",
        "\n",
        "print('Test accuracy: %.4f%%' % metrics.accuracy_score(y_true, alphabet_predictions))"
      ],
      "execution_count": 36,
      "outputs": [
        {
          "output_type": "stream",
          "text": [
            "Test F1 accuracy: 97.8667%\n",
            "Test accuracy: 0.9787%\n"
          ],
          "name": "stdout"
        }
      ]
    },
    {
      "metadata": {
        "id": "OAnU8h4hHt7v",
        "colab_type": "text"
      },
      "cell_type": "markdown",
      "source": [
        "increasing filter size\n"
      ]
    },
    {
      "metadata": {
        "id": "v9qU3PZhxpZS",
        "colab_type": "code",
        "colab": {
          "base_uri": "https://localhost:8080/",
          "height": 2020
        },
        "outputId": "94b73a38-00ff-4137-a3b5-44e1c7ea293c"
      },
      "cell_type": "code",
      "source": [
        "### Prepare the Training, Validation and Test Datasets\n",
        "def path_to_tensor(img_path):\n",
        "    if 'bcc000060.db' not in img_path:\n",
        "        # loads RGB image as PIL.Image.Image type\n",
        "        img = load_img(img_path, target_size=(64, 64), grayscale=False)\n",
        "        # convert PIL.Image.Image type to 3D tensor with shape (64, 64, 3)\n",
        "        x = img_to_array(img)\n",
        "        # convert 3D tensor to 4D tensor with shape (1, 64, 64, 3) and return 4D tensor\n",
        "        return np.expand_dims(x, axis=0)\n",
        "\n",
        "def paths_to_tensor(img_paths):\n",
        "    list_of_tensors = [path_to_tensor(img_path) for img_path in img_paths]\n",
        "    return np.vstack(list_of_tensors)\n",
        "\n",
        "# pre-process the data for Keras. We rescale the images by dividing every pixel in every image by 255. \n",
        "# So the scale is now 0-1 instead of 0-255.\n",
        "train_tensors = paths_to_tensor(train_files).astype('float32')/255\n",
        "valid_tensors = paths_to_tensor(valid_files).astype('float32')/255\n",
        "test_tensors = paths_to_tensor(test_files).astype('float32')/255\n",
        "\n",
        "# print number of training, validation, and test images\n",
        "print(train_tensors.shape[0], 'train samples')\n",
        "print(valid_tensors.shape[0], 'valid samples')\n",
        "print(test_tensors.shape[0], 'test samples')\n",
        "\n",
        "\n",
        "model_ = Sequential()\n",
        "model_.add(Conv2D(filters = 8, kernel_size = (7,7), padding = 'Same', activation='relu', input_shape = (train_tensors.shape[1:])))\n",
        "model_.add(Conv2D(filters = 16, kernel_size = (7,7), padding = 'Same', activation='relu'))\n",
        "model_.add(MaxPooling2D(pool_size = (2,2)))\n",
        "#model_.add(Dropout(0.2))\n",
        "\n",
        "model_.add(Conv2D(filters = 32, kernel_size = (6,6), padding = 'Same', activation='relu'))\n",
        "model_.add(Conv2D(filters = 64, kernel_size = (6,6), padding = 'Same', activation = 'relu'))\n",
        "model_.add(MaxPooling2D(pool_size = (2,2), strides=(2,2)))\n",
        "\n",
        "model_.add(Conv2D(filters = 128, kernel_size = (5,5), padding = 'Same', activation='relu'))\n",
        "model_.add(Conv2D(filters = 128, kernel_size = (5,5), padding = 'Same', activation = 'relu'))\n",
        "model_.add(MaxPooling2D(pool_size = (2,2), strides=(2,2)))\n",
        "\n",
        "\n",
        "model_.add(Conv2D(filters = 256, kernel_size = (4,4), padding = 'Same', activation='relu'))\n",
        "#model_.add(Conv2D(filters = 512, kernel_size = (4,4), padding = 'Same', activation = 'relu'))\n",
        "model_.add(MaxPooling2D(pool_size = (2,2), strides=(2,2)))\n",
        "#model_.add(Dropout(0.3))\n",
        "\n",
        "#model_.add(Conv2D(filters = 512, kernel_size = (3,3), padding = 'Same', activation = 'relu'))\n",
        "\n",
        "model_.add(Flatten())\n",
        "model_.add(Dense(256, activation='relu'))\n",
        "model_.add(Dropout(0.5))\n",
        "\n",
        "model_.add(Dense(50, activation = 'sigmoid'))\n",
        "model_.summary()\n",
        "\n",
        "\n",
        "from keras.optimizers import adam\n",
        "from keras.callbacks import ReduceLROnPlateau\n",
        "\n",
        "optimizer_ = adam(lr = 0.001, epsilon = 1e-08, decay = 0.0)\n",
        "model_.compile(optimizer = optimizer_, loss = 'categorical_crossentropy', metrics = ['accuracy'])\n",
        "\n",
        "learning_rate_reduction = ReduceLROnPlateau(monitor = 'val_acc',\n",
        "                                           patience = 2,\n",
        "                                           verbose = 1,\n",
        "                                           factor = 0.5,\n",
        "                                           min_lr = 0.00001)\n",
        "epochs = 100\n",
        "batch_size = 128\n",
        "\n",
        "\n",
        "# Augment the training data \n",
        "from keras.preprocessing.image import ImageDataGenerator\n",
        "\n",
        "# create and configure augmented image generator\n",
        "datagen_train = ImageDataGenerator(\n",
        "    width_shift_range=0.2,  # randomly shift images horizontally (10% of total width)\n",
        "    height_shift_range=0.2,  # randomly shift images vertically (10% of total height)\n",
        "    rotation_range=15, \n",
        "    shear_range=0.2,\n",
        "    zoom_range=0.2,\n",
        "    fill_mode='nearest') # randomly rotate images by 15 degrees\n",
        "\n",
        "# create and configure augmented image generator\n",
        "datagen_valid = ImageDataGenerator(\n",
        "    width_shift_range=0.2,  # randomly shift images horizontally (10% of total width)\n",
        "    height_shift_range=0.2,  # randomly shift images vertically (10% of total height)\n",
        "    rotation_range=15, \n",
        "    shear_range=0.2,\n",
        "    zoom_range=0.2,\n",
        "    fill_mode='nearest')\n",
        "\n",
        "# fit augmented image generator on data\n",
        "datagen_train.fit(train_tensors)\n",
        "datagen_valid.fit(valid_tensors)\n",
        "\n",
        "from keras.callbacks import ModelCheckpoint   \n",
        "\n",
        "# train the model\n",
        "checkpointer = ModelCheckpoint(filepath='weights.best.with_augmentation_new.hdf5', verbose=1, \n",
        "                               save_best_only=True)\n",
        "\n",
        "history = model_.fit_generator(datagen_train.flow(train_tensors, train_targets, batch_size=batch_size),\n",
        "                                steps_per_epoch=train_tensors.shape[0] // batch_size,\n",
        "                                epochs=epochs, \n",
        "                                verbose=2, \n",
        "                                callbacks=[checkpointer, learning_rate_reduction],\n",
        "                                validation_data=datagen_valid.flow(valid_tensors, valid_targets, batch_size=batch_size),\n",
        "                                validation_steps=valid_tensors.shape[0] // batch_size)\n",
        "\n",
        "\n",
        "# Plot the loss and accuracy curves for training and validation \n",
        "fig, ax = plt.subplots(2,1)\n",
        "ax[0].plot(history.history['loss'], color='b', label=\"Training loss\")\n",
        "ax[0].plot(history.history['val_loss'], color='r', label=\"validation loss\",axes =ax[0])\n",
        "legend = ax[0].legend(loc='best', shadow=True)\n",
        "\n",
        "ax[1].plot(history.history['acc'], color='b', label=\"Training accuracy\")\n",
        "ax[1].plot(history.history['val_acc'], color='r',label=\"Validation accuracy\")\n",
        "legend = ax[1].legend(loc='best', shadow=True)\n",
        "\n",
        "#load the model with best weights\n",
        "model_.load_weights('weights.best.with_augmentation_new.hdf5')\n",
        "#model.load_weights('saved_models/weights.best.with_augmentation.hdf5')\n",
        "# get index of predicted alphabetnfor each image in test set\n",
        "alphabet_predictions = [np.argmax(model_.predict(np.expand_dims(tensor, axis=0))) for tensor in test_tensors]\n",
        "\n",
        "from sklearn import metrics\n",
        "y_true = [np.argmax(y_test) for y_test in test_targets]\n",
        "f1_accuracy = 100* metrics.f1_score(y_true,alphabet_predictions, average = 'micro')\n",
        "print('Test F1 accuracy: %.4f%%' % f1_accuracy)\n",
        "\n",
        "print('Test F1 accuracy: %.4f%%' % metrics.accuracy_score(y_true, alphabet_predictions,  average = 'micro'))\n",
        "\n",
        "#from sklearn.metrics import confusion_matrix\n",
        "#confusion_matrix(y_true, alphabet_predictions)\n",
        "\n",
        "### Error Analysis\n",
        "## Find all the test cases where the prediction does not match the actual.\n",
        "## Trace back to file names and analyse \n",
        "## Loop over test tensors, predict and if doesnt match with actual add the file\n",
        "## name to an array\n",
        "\n",
        "error_files = []\n",
        "error_images = []\n",
        "for i, idx in enumerate(np.random.choice(test_tensors.shape[0], size=3000, replace=False)):\n",
        "    pred_idx = alphabet_predictions[idx]\n",
        "    true_idx = np.argmax(test_targets[idx])\n",
        "    if pred_idx != true_idx:\n",
        "        error_files.append(test_files[idx])\n",
        "        error_images.append(idx)\n",
        "\n",
        "print(\"Total error: \"+ str(len(error_files)))\n",
        "error_files = np.array(error_files) \n",
        "\n",
        "error_images = np.array(error_images) \n",
        "errors=np.stack((error_images,error_files),axis=-1)\n",
        "         \n",
        "\n",
        "fig = plt.figure(figsize=(20,20))\n",
        "i = 0 \n",
        "for idx, pic in errors:\n",
        "    idx = int(idx)\n",
        "    ax = fig.add_subplot(11, 10, i + 1, xticks=[], yticks=[])\n",
        "    \n",
        "    #print ('Misclassified the file: ' + pic + ' As: ' + str (alphabet_predictions[idx] ) + ' instead of ' + str(np.argmax(test_targets[idx])) + ' Index: ' + str(idx))\n",
        "\n",
        "    ax.imshow(np.squeeze(load_img(pic, target_size=(100,100), grayscale=True)), cmap = 'gray')\n",
        "    ax.set_title(\"{} ({})\".format(str (alphabet_predictions[idx] ), str(np.argmax(test_targets[idx]))),\n",
        "                 color=(\"red\"))\n",
        "    i += 1"
      ],
      "execution_count": 35,
      "outputs": [
        {
          "output_type": "stream",
          "text": [
            "9600 train samples\n",
            "2400 valid samples\n",
            "3000 test samples\n",
            "_________________________________________________________________\n",
            "Layer (type)                 Output Shape              Param #   \n",
            "=================================================================\n",
            "conv2d_50 (Conv2D)           (None, 64, 64, 8)         1184      \n",
            "_________________________________________________________________\n",
            "conv2d_51 (Conv2D)           (None, 64, 64, 16)        6288      \n",
            "_________________________________________________________________\n",
            "max_pooling2d_22 (MaxPooling (None, 32, 32, 16)        0         \n",
            "_________________________________________________________________\n",
            "conv2d_52 (Conv2D)           (None, 32, 32, 32)        18464     \n",
            "_________________________________________________________________\n",
            "conv2d_53 (Conv2D)           (None, 32, 32, 64)        73792     \n",
            "_________________________________________________________________\n",
            "max_pooling2d_23 (MaxPooling (None, 16, 16, 64)        0         \n",
            "_________________________________________________________________\n",
            "conv2d_54 (Conv2D)           (None, 16, 16, 128)       204928    \n",
            "_________________________________________________________________\n",
            "conv2d_55 (Conv2D)           (None, 16, 16, 128)       409728    \n",
            "_________________________________________________________________\n",
            "max_pooling2d_24 (MaxPooling (None, 8, 8, 128)         0         \n",
            "_________________________________________________________________\n",
            "conv2d_56 (Conv2D)           (None, 8, 8, 256)         524544    \n",
            "_________________________________________________________________\n",
            "max_pooling2d_25 (MaxPooling (None, 4, 4, 256)         0         \n",
            "_________________________________________________________________\n",
            "flatten_8 (Flatten)          (None, 4096)              0         \n",
            "_________________________________________________________________\n",
            "dense_15 (Dense)             (None, 256)               1048832   \n",
            "_________________________________________________________________\n",
            "dropout_8 (Dropout)          (None, 256)               0         \n",
            "_________________________________________________________________\n",
            "dense_16 (Dense)             (None, 50)                12850     \n",
            "=================================================================\n",
            "Total params: 2,300,610\n",
            "Trainable params: 2,300,610\n",
            "Non-trainable params: 0\n",
            "_________________________________________________________________\n",
            "Epoch 1/100\n"
          ],
          "name": "stdout"
        },
        {
          "output_type": "error",
          "ename": "KeyboardInterrupt",
          "evalue": "ignored",
          "traceback": [
            "\u001b[0;31m---------------------------------------------------------------------------\u001b[0m",
            "\u001b[0;31mKeyboardInterrupt\u001b[0m                         Traceback (most recent call last)",
            "\u001b[0;32m<ipython-input-35-7261ab9e99bb>\u001b[0m in \u001b[0;36m<module>\u001b[0;34m()\u001b[0m\n\u001b[1;32m    106\u001b[0m                                 \u001b[0mcallbacks\u001b[0m\u001b[0;34m=\u001b[0m\u001b[0;34m[\u001b[0m\u001b[0mcheckpointer\u001b[0m\u001b[0;34m,\u001b[0m \u001b[0mlearning_rate_reduction\u001b[0m\u001b[0;34m]\u001b[0m\u001b[0;34m,\u001b[0m\u001b[0;34m\u001b[0m\u001b[0m\n\u001b[1;32m    107\u001b[0m                                 \u001b[0mvalidation_data\u001b[0m\u001b[0;34m=\u001b[0m\u001b[0mdatagen_valid\u001b[0m\u001b[0;34m.\u001b[0m\u001b[0mflow\u001b[0m\u001b[0;34m(\u001b[0m\u001b[0mvalid_tensors\u001b[0m\u001b[0;34m,\u001b[0m \u001b[0mvalid_targets\u001b[0m\u001b[0;34m,\u001b[0m \u001b[0mbatch_size\u001b[0m\u001b[0;34m=\u001b[0m\u001b[0mbatch_size\u001b[0m\u001b[0;34m)\u001b[0m\u001b[0;34m,\u001b[0m\u001b[0;34m\u001b[0m\u001b[0m\n\u001b[0;32m--> 108\u001b[0;31m                                 validation_steps=valid_tensors.shape[0] // batch_size)\n\u001b[0m\u001b[1;32m    109\u001b[0m \u001b[0;34m\u001b[0m\u001b[0m\n\u001b[1;32m    110\u001b[0m \u001b[0;34m\u001b[0m\u001b[0m\n",
            "\u001b[0;32m/usr/local/lib/python3.6/dist-packages/keras/legacy/interfaces.py\u001b[0m in \u001b[0;36mwrapper\u001b[0;34m(*args, **kwargs)\u001b[0m\n\u001b[1;32m     89\u001b[0m                 warnings.warn('Update your `' + object_name +\n\u001b[1;32m     90\u001b[0m                               '` call to the Keras 2 API: ' + signature, stacklevel=2)\n\u001b[0;32m---> 91\u001b[0;31m             \u001b[0;32mreturn\u001b[0m \u001b[0mfunc\u001b[0m\u001b[0;34m(\u001b[0m\u001b[0;34m*\u001b[0m\u001b[0margs\u001b[0m\u001b[0;34m,\u001b[0m \u001b[0;34m**\u001b[0m\u001b[0mkwargs\u001b[0m\u001b[0;34m)\u001b[0m\u001b[0;34m\u001b[0m\u001b[0m\n\u001b[0m\u001b[1;32m     92\u001b[0m         \u001b[0mwrapper\u001b[0m\u001b[0;34m.\u001b[0m\u001b[0m_original_function\u001b[0m \u001b[0;34m=\u001b[0m \u001b[0mfunc\u001b[0m\u001b[0;34m\u001b[0m\u001b[0m\n\u001b[1;32m     93\u001b[0m         \u001b[0;32mreturn\u001b[0m \u001b[0mwrapper\u001b[0m\u001b[0;34m\u001b[0m\u001b[0m\n",
            "\u001b[0;32m/usr/local/lib/python3.6/dist-packages/keras/models.py\u001b[0m in \u001b[0;36mfit_generator\u001b[0;34m(self, generator, steps_per_epoch, epochs, verbose, callbacks, validation_data, validation_steps, class_weight, max_queue_size, workers, use_multiprocessing, shuffle, initial_epoch)\u001b[0m\n\u001b[1;32m   1313\u001b[0m                                         \u001b[0muse_multiprocessing\u001b[0m\u001b[0;34m=\u001b[0m\u001b[0muse_multiprocessing\u001b[0m\u001b[0;34m,\u001b[0m\u001b[0;34m\u001b[0m\u001b[0m\n\u001b[1;32m   1314\u001b[0m                                         \u001b[0mshuffle\u001b[0m\u001b[0;34m=\u001b[0m\u001b[0mshuffle\u001b[0m\u001b[0;34m,\u001b[0m\u001b[0;34m\u001b[0m\u001b[0m\n\u001b[0;32m-> 1315\u001b[0;31m                                         initial_epoch=initial_epoch)\n\u001b[0m\u001b[1;32m   1316\u001b[0m \u001b[0;34m\u001b[0m\u001b[0m\n\u001b[1;32m   1317\u001b[0m     \u001b[0;34m@\u001b[0m\u001b[0minterfaces\u001b[0m\u001b[0;34m.\u001b[0m\u001b[0mlegacy_generator_methods_support\u001b[0m\u001b[0;34m\u001b[0m\u001b[0m\n",
            "\u001b[0;32m/usr/local/lib/python3.6/dist-packages/keras/legacy/interfaces.py\u001b[0m in \u001b[0;36mwrapper\u001b[0;34m(*args, **kwargs)\u001b[0m\n\u001b[1;32m     89\u001b[0m                 warnings.warn('Update your `' + object_name +\n\u001b[1;32m     90\u001b[0m                               '` call to the Keras 2 API: ' + signature, stacklevel=2)\n\u001b[0;32m---> 91\u001b[0;31m             \u001b[0;32mreturn\u001b[0m \u001b[0mfunc\u001b[0m\u001b[0;34m(\u001b[0m\u001b[0;34m*\u001b[0m\u001b[0margs\u001b[0m\u001b[0;34m,\u001b[0m \u001b[0;34m**\u001b[0m\u001b[0mkwargs\u001b[0m\u001b[0;34m)\u001b[0m\u001b[0;34m\u001b[0m\u001b[0m\n\u001b[0m\u001b[1;32m     92\u001b[0m         \u001b[0mwrapper\u001b[0m\u001b[0;34m.\u001b[0m\u001b[0m_original_function\u001b[0m \u001b[0;34m=\u001b[0m \u001b[0mfunc\u001b[0m\u001b[0;34m\u001b[0m\u001b[0m\n\u001b[1;32m     93\u001b[0m         \u001b[0;32mreturn\u001b[0m \u001b[0mwrapper\u001b[0m\u001b[0;34m\u001b[0m\u001b[0m\n",
            "\u001b[0;32m/usr/local/lib/python3.6/dist-packages/keras/engine/training.py\u001b[0m in \u001b[0;36mfit_generator\u001b[0;34m(self, generator, steps_per_epoch, epochs, verbose, callbacks, validation_data, validation_steps, class_weight, max_queue_size, workers, use_multiprocessing, shuffle, initial_epoch)\u001b[0m\n\u001b[1;32m   2192\u001b[0m                 \u001b[0mbatch_index\u001b[0m \u001b[0;34m=\u001b[0m \u001b[0;36m0\u001b[0m\u001b[0;34m\u001b[0m\u001b[0m\n\u001b[1;32m   2193\u001b[0m                 \u001b[0;32mwhile\u001b[0m \u001b[0msteps_done\u001b[0m \u001b[0;34m<\u001b[0m \u001b[0msteps_per_epoch\u001b[0m\u001b[0;34m:\u001b[0m\u001b[0;34m\u001b[0m\u001b[0m\n\u001b[0;32m-> 2194\u001b[0;31m                     \u001b[0mgenerator_output\u001b[0m \u001b[0;34m=\u001b[0m \u001b[0mnext\u001b[0m\u001b[0;34m(\u001b[0m\u001b[0moutput_generator\u001b[0m\u001b[0;34m)\u001b[0m\u001b[0;34m\u001b[0m\u001b[0m\n\u001b[0m\u001b[1;32m   2195\u001b[0m \u001b[0;34m\u001b[0m\u001b[0m\n\u001b[1;32m   2196\u001b[0m                     \u001b[0;32mif\u001b[0m \u001b[0;32mnot\u001b[0m \u001b[0mhasattr\u001b[0m\u001b[0;34m(\u001b[0m\u001b[0mgenerator_output\u001b[0m\u001b[0;34m,\u001b[0m \u001b[0;34m'__len__'\u001b[0m\u001b[0;34m)\u001b[0m\u001b[0;34m:\u001b[0m\u001b[0;34m\u001b[0m\u001b[0m\n",
            "\u001b[0;32m/usr/local/lib/python3.6/dist-packages/keras/utils/data_utils.py\u001b[0m in \u001b[0;36mget\u001b[0;34m(self)\u001b[0m\n\u001b[1;32m    576\u001b[0m         \u001b[0;32mtry\u001b[0m\u001b[0;34m:\u001b[0m\u001b[0;34m\u001b[0m\u001b[0m\n\u001b[1;32m    577\u001b[0m             \u001b[0;32mwhile\u001b[0m \u001b[0mself\u001b[0m\u001b[0;34m.\u001b[0m\u001b[0mis_running\u001b[0m\u001b[0;34m(\u001b[0m\u001b[0;34m)\u001b[0m\u001b[0;34m:\u001b[0m\u001b[0;34m\u001b[0m\u001b[0m\n\u001b[0;32m--> 578\u001b[0;31m                 \u001b[0minputs\u001b[0m \u001b[0;34m=\u001b[0m \u001b[0mself\u001b[0m\u001b[0;34m.\u001b[0m\u001b[0mqueue\u001b[0m\u001b[0;34m.\u001b[0m\u001b[0mget\u001b[0m\u001b[0;34m(\u001b[0m\u001b[0mblock\u001b[0m\u001b[0;34m=\u001b[0m\u001b[0;32mTrue\u001b[0m\u001b[0;34m)\u001b[0m\u001b[0;34m.\u001b[0m\u001b[0mget\u001b[0m\u001b[0;34m(\u001b[0m\u001b[0;34m)\u001b[0m\u001b[0;34m\u001b[0m\u001b[0m\n\u001b[0m\u001b[1;32m    579\u001b[0m                 \u001b[0mself\u001b[0m\u001b[0;34m.\u001b[0m\u001b[0mqueue\u001b[0m\u001b[0;34m.\u001b[0m\u001b[0mtask_done\u001b[0m\u001b[0;34m(\u001b[0m\u001b[0;34m)\u001b[0m\u001b[0;34m\u001b[0m\u001b[0m\n\u001b[1;32m    580\u001b[0m                 \u001b[0;32mif\u001b[0m \u001b[0minputs\u001b[0m \u001b[0;32mis\u001b[0m \u001b[0;32mnot\u001b[0m \u001b[0;32mNone\u001b[0m\u001b[0;34m:\u001b[0m\u001b[0;34m\u001b[0m\u001b[0m\n",
            "\u001b[0;32m/usr/lib/python3.6/multiprocessing/pool.py\u001b[0m in \u001b[0;36mget\u001b[0;34m(self, timeout)\u001b[0m\n\u001b[1;32m    636\u001b[0m \u001b[0;34m\u001b[0m\u001b[0m\n\u001b[1;32m    637\u001b[0m     \u001b[0;32mdef\u001b[0m \u001b[0mget\u001b[0m\u001b[0;34m(\u001b[0m\u001b[0mself\u001b[0m\u001b[0;34m,\u001b[0m \u001b[0mtimeout\u001b[0m\u001b[0;34m=\u001b[0m\u001b[0;32mNone\u001b[0m\u001b[0;34m)\u001b[0m\u001b[0;34m:\u001b[0m\u001b[0;34m\u001b[0m\u001b[0m\n\u001b[0;32m--> 638\u001b[0;31m         \u001b[0mself\u001b[0m\u001b[0;34m.\u001b[0m\u001b[0mwait\u001b[0m\u001b[0;34m(\u001b[0m\u001b[0mtimeout\u001b[0m\u001b[0;34m)\u001b[0m\u001b[0;34m\u001b[0m\u001b[0m\n\u001b[0m\u001b[1;32m    639\u001b[0m         \u001b[0;32mif\u001b[0m \u001b[0;32mnot\u001b[0m \u001b[0mself\u001b[0m\u001b[0;34m.\u001b[0m\u001b[0mready\u001b[0m\u001b[0;34m(\u001b[0m\u001b[0;34m)\u001b[0m\u001b[0;34m:\u001b[0m\u001b[0;34m\u001b[0m\u001b[0m\n\u001b[1;32m    640\u001b[0m             \u001b[0;32mraise\u001b[0m \u001b[0mTimeoutError\u001b[0m\u001b[0;34m\u001b[0m\u001b[0m\n",
            "\u001b[0;32m/usr/lib/python3.6/multiprocessing/pool.py\u001b[0m in \u001b[0;36mwait\u001b[0;34m(self, timeout)\u001b[0m\n\u001b[1;32m    633\u001b[0m \u001b[0;34m\u001b[0m\u001b[0m\n\u001b[1;32m    634\u001b[0m     \u001b[0;32mdef\u001b[0m \u001b[0mwait\u001b[0m\u001b[0;34m(\u001b[0m\u001b[0mself\u001b[0m\u001b[0;34m,\u001b[0m \u001b[0mtimeout\u001b[0m\u001b[0;34m=\u001b[0m\u001b[0;32mNone\u001b[0m\u001b[0;34m)\u001b[0m\u001b[0;34m:\u001b[0m\u001b[0;34m\u001b[0m\u001b[0m\n\u001b[0;32m--> 635\u001b[0;31m         \u001b[0mself\u001b[0m\u001b[0;34m.\u001b[0m\u001b[0m_event\u001b[0m\u001b[0;34m.\u001b[0m\u001b[0mwait\u001b[0m\u001b[0;34m(\u001b[0m\u001b[0mtimeout\u001b[0m\u001b[0;34m)\u001b[0m\u001b[0;34m\u001b[0m\u001b[0m\n\u001b[0m\u001b[1;32m    636\u001b[0m \u001b[0;34m\u001b[0m\u001b[0m\n\u001b[1;32m    637\u001b[0m     \u001b[0;32mdef\u001b[0m \u001b[0mget\u001b[0m\u001b[0;34m(\u001b[0m\u001b[0mself\u001b[0m\u001b[0;34m,\u001b[0m \u001b[0mtimeout\u001b[0m\u001b[0;34m=\u001b[0m\u001b[0;32mNone\u001b[0m\u001b[0;34m)\u001b[0m\u001b[0;34m:\u001b[0m\u001b[0;34m\u001b[0m\u001b[0m\n",
            "\u001b[0;32m/usr/lib/python3.6/threading.py\u001b[0m in \u001b[0;36mwait\u001b[0;34m(self, timeout)\u001b[0m\n\u001b[1;32m    549\u001b[0m             \u001b[0msignaled\u001b[0m \u001b[0;34m=\u001b[0m \u001b[0mself\u001b[0m\u001b[0;34m.\u001b[0m\u001b[0m_flag\u001b[0m\u001b[0;34m\u001b[0m\u001b[0m\n\u001b[1;32m    550\u001b[0m             \u001b[0;32mif\u001b[0m \u001b[0;32mnot\u001b[0m \u001b[0msignaled\u001b[0m\u001b[0;34m:\u001b[0m\u001b[0;34m\u001b[0m\u001b[0m\n\u001b[0;32m--> 551\u001b[0;31m                 \u001b[0msignaled\u001b[0m \u001b[0;34m=\u001b[0m \u001b[0mself\u001b[0m\u001b[0;34m.\u001b[0m\u001b[0m_cond\u001b[0m\u001b[0;34m.\u001b[0m\u001b[0mwait\u001b[0m\u001b[0;34m(\u001b[0m\u001b[0mtimeout\u001b[0m\u001b[0;34m)\u001b[0m\u001b[0;34m\u001b[0m\u001b[0m\n\u001b[0m\u001b[1;32m    552\u001b[0m             \u001b[0;32mreturn\u001b[0m \u001b[0msignaled\u001b[0m\u001b[0;34m\u001b[0m\u001b[0m\n\u001b[1;32m    553\u001b[0m \u001b[0;34m\u001b[0m\u001b[0m\n",
            "\u001b[0;32m/usr/lib/python3.6/threading.py\u001b[0m in \u001b[0;36mwait\u001b[0;34m(self, timeout)\u001b[0m\n\u001b[1;32m    293\u001b[0m         \u001b[0;32mtry\u001b[0m\u001b[0;34m:\u001b[0m    \u001b[0;31m# restore state no matter what (e.g., KeyboardInterrupt)\u001b[0m\u001b[0;34m\u001b[0m\u001b[0m\n\u001b[1;32m    294\u001b[0m             \u001b[0;32mif\u001b[0m \u001b[0mtimeout\u001b[0m \u001b[0;32mis\u001b[0m \u001b[0;32mNone\u001b[0m\u001b[0;34m:\u001b[0m\u001b[0;34m\u001b[0m\u001b[0m\n\u001b[0;32m--> 295\u001b[0;31m                 \u001b[0mwaiter\u001b[0m\u001b[0;34m.\u001b[0m\u001b[0macquire\u001b[0m\u001b[0;34m(\u001b[0m\u001b[0;34m)\u001b[0m\u001b[0;34m\u001b[0m\u001b[0m\n\u001b[0m\u001b[1;32m    296\u001b[0m                 \u001b[0mgotit\u001b[0m \u001b[0;34m=\u001b[0m \u001b[0;32mTrue\u001b[0m\u001b[0;34m\u001b[0m\u001b[0m\n\u001b[1;32m    297\u001b[0m             \u001b[0;32melse\u001b[0m\u001b[0;34m:\u001b[0m\u001b[0;34m\u001b[0m\u001b[0m\n",
            "\u001b[0;31mKeyboardInterrupt\u001b[0m: "
          ]
        }
      ]
    },
    {
      "metadata": {
        "id": "BVO2W8lEyriZ",
        "colab_type": "code",
        "colab": {
          "base_uri": "https://localhost:8080/",
          "height": 68
        },
        "outputId": "975a1059-04b5-4410-a852-dbc4df91856d"
      },
      "cell_type": "code",
      "source": [
        "# evaluate and print test accuracy\n",
        "score = model_.evaluate(test_tensors, test_targets, verbose=1)\n",
        "print('\\n', 'Test accuracy:', score[1])"
      ],
      "execution_count": 0,
      "outputs": [
        {
          "output_type": "stream",
          "text": [
            "3000/3000 [==============================] - 2s 640us/step\n",
            "\n",
            " Test accuracy: 0.976\n"
          ],
          "name": "stdout"
        }
      ]
    },
    {
      "metadata": {
        "id": "XC1aPUvYyrk6",
        "colab_type": "code",
        "colab": {}
      },
      "cell_type": "code",
      "source": [
        ""
      ],
      "execution_count": 0,
      "outputs": []
    },
    {
      "metadata": {
        "id": "Xm4HEQECyrnS",
        "colab_type": "code",
        "colab": {}
      },
      "cell_type": "code",
      "source": [
        ""
      ],
      "execution_count": 0,
      "outputs": []
    },
    {
      "metadata": {
        "id": "CQKyWjH5yrpw",
        "colab_type": "code",
        "colab": {}
      },
      "cell_type": "code",
      "source": [
        ""
      ],
      "execution_count": 0,
      "outputs": []
    },
    {
      "metadata": {
        "id": "JMCy3Jdvyrsa",
        "colab_type": "code",
        "colab": {}
      },
      "cell_type": "code",
      "source": [
        ""
      ],
      "execution_count": 0,
      "outputs": []
    },
    {
      "metadata": {
        "id": "KNDACvNyyruC",
        "colab_type": "code",
        "colab": {}
      },
      "cell_type": "code",
      "source": [
        ""
      ],
      "execution_count": 0,
      "outputs": []
    }
  ]
}